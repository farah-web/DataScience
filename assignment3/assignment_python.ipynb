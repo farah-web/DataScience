{
 "cells": [
  {
   "cell_type": "markdown",
   "id": "8b1e11d8-ec64-4398-bca0-10838f51d97e",
   "metadata": {},
   "source": [
    "#Exercise 1: Prime Numbers"
   ]
  },
  {
   "cell_type": "code",
   "execution_count": 2,
   "id": "64a07bb7-89ec-4c61-bb07-6f7bc82ab131",
   "metadata": {},
   "outputs": [
    {
     "name": "stdin",
     "output_type": "stream",
     "text": [
      "Enter the number 67\n"
     ]
    },
    {
     "name": "stdout",
     "output_type": "stream",
     "text": [
      "67 is prime number.\n"
     ]
    }
   ],
   "source": [
    "def check_prime(num):\n",
    "    for n in range(2, num):\n",
    "        if num%n==0:\n",
    "            return False\n",
    "    return True\n",
    "    \n",
    "num=int(input(\"Enter the number\"))\n",
    "if num <1:\n",
    "    print(\"Please enter a positive number greater than 1.\")\n",
    "else:\n",
    "    if check_prime(num):\n",
    "       print(f\"{num} is prime number.\")\n",
    "    else:\n",
    "       print(f\"{num} is not a prime number.\") "
   ]
  },
  {
   "cell_type": "code",
   "execution_count": null,
   "id": "428add0f-14fa-43e7-a27a-a9fff75cb4f8",
   "metadata": {},
   "outputs": [],
   "source": [
    "#-----------------------------------------------------------------------------------------------------------------"
   ]
  },
  {
   "cell_type": "markdown",
   "id": "7f616ede-934d-4b62-aaa8-258cb064c06d",
   "metadata": {},
   "source": [
    "#Exercise 2: Product of Random Numbers"
   ]
  },
  {
   "cell_type": "code",
   "execution_count": 60,
   "id": "fae8aea8-3169-497c-903c-841ec16560cd",
   "metadata": {},
   "outputs": [
    {
     "name": "stdin",
     "output_type": "stream",
     "text": [
      "Guess the product of 86 and 87 1690\n"
     ]
    },
    {
     "name": "stdout",
     "output_type": "stream",
     "text": [
      "Opps!! Your guess is a bit low. Try Again!\n"
     ]
    },
    {
     "name": "stdin",
     "output_type": "stream",
     "text": [
      "Guess the product of 24 and 57 16000\n"
     ]
    },
    {
     "name": "stdout",
     "output_type": "stream",
     "text": [
      "Opps!! Your guess is a bit too high. Try again!\n"
     ]
    },
    {
     "name": "stdin",
     "output_type": "stream",
     "text": [
      "Guess the product of 96 and 95 9120\n"
     ]
    },
    {
     "name": "stdout",
     "output_type": "stream",
     "text": [
      "Hurray!! you guessed it right!\n"
     ]
    }
   ],
   "source": [
    "import random\n",
    "\n",
    "def check_product():\n",
    "    correct_guess= False\n",
    "    \n",
    "    while not correct_guess:\n",
    "        #Generate two random numbers between 1 - 100\n",
    "        num1=random.randint(1,100)\n",
    "        num2=random.randint(1,100)\n",
    "        actual_product= num1 * num2\n",
    "        \n",
    "        user_guess=int(input(f\"Guess the product of {num1} and {num2}\"))\n",
    "        \n",
    "        #Check if the user's guess correct, too high or too low.\n",
    "        if actual_product < user_guess:\n",
    "            print(\"Opps!! Your guess is a bit too high. Try again!\")\n",
    "        elif actual_product > user_guess:\n",
    "            print(\"Opps!! Your guess is a bit low. Try Again!\")\n",
    "        else:\n",
    "            print(\"Hurray!! you guessed it right!\")\n",
    "            correct_guess=True\n",
    "\n",
    "check_product()"
   ]
  },
  {
   "cell_type": "code",
   "execution_count": null,
   "id": "81cb64a9-692f-4c30-b0c7-643f228b9c21",
   "metadata": {},
   "outputs": [],
   "source": [
    "#-----------------------------------------------------------------------------------------------------------------"
   ]
  },
  {
   "cell_type": "markdown",
   "id": "dd1fbc13-8102-4d01-b3d9-a7c4267f85f5",
   "metadata": {},
   "source": [
    "#Exercise 3: Squares of Even/Odd Numbers"
   ]
  },
  {
   "cell_type": "code",
   "execution_count": 82,
   "id": "91387eca-2c1f-42e6-8611-1437c0fbf334",
   "metadata": {},
   "outputs": [
    {
     "name": "stdin",
     "output_type": "stream",
     "text": [
      "Enter which type of square numbers you want [Odd/Even]. FASFADS\n"
     ]
    },
    {
     "name": "stdout",
     "output_type": "stream",
     "text": [
      "Invalid input! Please enter Odd or Even.\n"
     ]
    }
   ],
   "source": [
    "def print_squares(num_type):\n",
    "    #Checks if the user chose odd numbers.\n",
    "    if num_type == 'odd':\n",
    "        print(\"Squares of Odd Numbers between 100 - 200\")\n",
    "        for num in range (101,201,2): #Starts at 101 for odd numbers.\n",
    "            print(f\"{num}^2 = {num**2}\")\n",
    "    else:\n",
    "         print(\"Squares of Even Numbers between 100 - 200\")\n",
    "         for num in range (100,201,2): #Starts at 100 for even numbers.\n",
    "            print(f\"{num}^2 = {num**2}\")\n",
    " \n",
    "\n",
    "num_type=input(\"Enter which type of square numbers you want [Odd/Even].\").lower()\n",
    "\n",
    "if (\"odd\" in num_type or \"even\" in num_type):\n",
    "    print_squares(num_type)\n",
    "else:\n",
    "    print(\"Invalid input! Please enter Odd or Even.\")"
   ]
  },
  {
   "cell_type": "code",
   "execution_count": null,
   "id": "64e2a4a1-3335-41b2-8876-1833152bb190",
   "metadata": {},
   "outputs": [],
   "source": [
    "#-----------------------------------------------------------------------------------------------------------------"
   ]
  },
  {
   "cell_type": "markdown",
   "id": "3d96ecd6-29d8-41c2-8811-63c827c82d3e",
   "metadata": {},
   "source": [
    "#Exercise 4: Word counter"
   ]
  },
  {
   "cell_type": "code",
   "execution_count": 94,
   "id": "b77fd44d-e904-4a30-9bf0-0226a8a0fa6b",
   "metadata": {},
   "outputs": [
    {
     "name": "stdin",
     "output_type": "stream",
     "text": [
      "Enter the text:  This is a sample? text. This text! will be used to demonstrate the word counter.\n"
     ]
    },
    {
     "name": "stdout",
     "output_type": "stream",
     "text": [
      "This:2\n",
      "is:1\n",
      "a:1\n",
      "sample:1\n",
      "text:2\n",
      "will:1\n",
      "be:1\n",
      "used:1\n",
      "to:1\n",
      "demonstrate:1\n",
      "the:1\n",
      "word:1\n",
      "counter:1\n"
     ]
    }
   ],
   "source": [
    "word_dict={}\n",
    "input_text = input(\"Enter the text: \")\n",
    "# if the input_text string contains . or , or ! or ? then they will be replaced with blank. \n",
    "cleaned_text=input_text.replace(\".\", \"\").replace(\",\", \"\").replace(\"!\", \"\").replace(\"?\", \"\")\n",
    "# convert the cleaned_text into a list\n",
    "word_list= cleaned_text.split()\n",
    "\n",
    "for word in word_list:\n",
    "    word_dict[word]=word_list.count(word)\n",
    "\n",
    "for word in word_dict:\n",
    "    print(f\"{word}:{word_dict[word]}\")"
   ]
  },
  {
   "cell_type": "code",
   "execution_count": null,
   "id": "d2ebf984-9014-4b8a-8fdc-dfe4df6203c1",
   "metadata": {},
   "outputs": [],
   "source": [
    "#-----------------------------------------------------------------------------------------------------------------"
   ]
  },
  {
   "cell_type": "markdown",
   "id": "29328b3e-f701-4286-b6da-7f5177524ef2",
   "metadata": {},
   "source": [
    "#Exercise 5: Check for Palindrome"
   ]
  },
  {
   "cell_type": "code",
   "execution_count": 4,
   "id": "91a06246-20d9-4dda-9aa7-da8a3e898efb",
   "metadata": {},
   "outputs": [
    {
     "name": "stdin",
     "output_type": "stream",
     "text": [
      "Enter the text : radar\n"
     ]
    },
    {
     "name": "stdout",
     "output_type": "stream",
     "text": [
      "radar is a palindrome text.\n"
     ]
    }
   ],
   "source": [
    "def check_palindrome(text):\n",
    "    #reverse the text string\n",
    "    reverse_text=text[::-1]\n",
    "     #checks if both the reverse the text strings are same or not\n",
    "    if text == reverse_text:\n",
    "        return True\n",
    "    else:\n",
    "        return False\n",
    "\n",
    "text=input(\"Enter the text :\").lower()  \n",
    "if check_palindrome(text):\n",
    "    print(f\"{text} is a palindrome text.\")\n",
    "else:\n",
    "    print(f\"{text} is not a palindrome text.\")"
   ]
  },
  {
   "cell_type": "code",
   "execution_count": null,
   "id": "6446972f-5eba-4b65-b801-f1041c158e6c",
   "metadata": {},
   "outputs": [],
   "source": []
  }
 ],
 "metadata": {
  "kernelspec": {
   "display_name": "Python 3 (ipykernel)",
   "language": "python",
   "name": "python3"
  },
  "language_info": {
   "codemirror_mode": {
    "name": "ipython",
    "version": 3
   },
   "file_extension": ".py",
   "mimetype": "text/x-python",
   "name": "python",
   "nbconvert_exporter": "python",
   "pygments_lexer": "ipython3",
   "version": "3.12.7"
  }
 },
 "nbformat": 4,
 "nbformat_minor": 5
}
